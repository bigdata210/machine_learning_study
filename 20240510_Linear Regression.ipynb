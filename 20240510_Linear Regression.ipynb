{
 "cells": [
  {
   "cell_type": "markdown",
   "id": "3743584f",
   "metadata": {},
   "source": [
    "# Linear Regression"
   ]
  },
  {
   "cell_type": "markdown",
   "id": "d464eeed",
   "metadata": {},
   "source": [
    "## 회귀(Regression)\n",
    "- Training Data를 이용하여 데이터의 특성과 상관관계를 파악하고 미지의 데이터가 주어졌을 때 값을 예측하는 것\n",
    "\n",
    "### 학습의 개념\n",
    "- step1: analyze training data (ex. y=Wx + b)\n",
    "- step2: find weight(W) and bias(b)\n",
    "- 오차(error = t-y) 값을 최소한으로 하는 값을 찾는 것\n",
    "\n",
    "### 손실함수(loss function)\n",
    "- training data의 정답(t)과 입력(x)에 대한 계산 값 y의 차이를 모두 더해 수식으로 나타낸 것\n",
    "- 손실함수에서 오차를 계산할 때는 (t-y)^2처럼 제곱으로 하여 구함 \n",
    "- 모든 데이터에 대한 평균 오차값을 구함\n",
    "- 손실함수가 최소값을 갖는다 => 미지의 데이터에 대해 결과를 더 잘 예측한다\n",
    "\n",
    "### linear regression 목표\n",
    "- training data 특성 및 분포를 가장 잘 나타내는 직선을 계산하는 것"
   ]
  },
  {
   "cell_type": "markdown",
   "id": "d2f71886",
   "metadata": {},
   "source": [
    "## gradient decent algorithm (경사하강법)\n",
    "### 경사하강법 원리\n",
    "- 임의의 가중치 W 선택 \n",
    "- W에서의 직선의 기울기를 나타내는 미분값에서의 미분을 구함\n",
    "- 미분 값이 작아지는 방향으로 진행하여 손실함수의 최소값을 찾음\n",
    "\n"
   ]
  },
  {
   "cell_type": "code",
   "execution_count": 9,
   "id": "213406b9",
   "metadata": {},
   "outputs": [
    {
     "name": "stdout",
     "output_type": "stream",
     "text": [
      "W = [[0.98983275]] , W,shape = (1, 1) ,b = [0.29555057] , b.shape = (1,)\n",
      "Initial error value =  0.5403599700756971 Intial W =  [[0.98983275]] \n",
      " b =  [0.29555057]\n",
      "step = 0 error value = 0.3497634286636342 W = [[1.03433651]] b = [0.30757937]\n",
      "step = 400 error value = 0.005063861089792227 W = [[1.04621018]] b = [0.83320743]\n",
      "step = 800 error value = 0.00032310427493797923 W = [[1.01167261]] b = [0.95786848]\n",
      "step = 1200 error value = 2.0615962924739075e-05 W = [[1.00294848]] b = [0.98935765]\n",
      "step = 1600 error value = 1.3154203156120199e-06 W = [[1.00074478]] b = [0.99731176]\n",
      "step = 2000 error value = 8.393159286514225e-08 W = [[1.00018813]] b = [0.99932096]\n",
      "step = 2400 error value = 5.355331826077453e-09 W = [[1.00004752]] b = [0.99982847]\n",
      "step = 2800 error value = 3.417018310846148e-10 W = [[1.000012]] b = [0.99995667]\n",
      "step = 3200 error value = 2.180259695410923e-11 W = [[1.00000303]] b = [0.99998906]\n",
      "step = 3600 error value = 1.3911345829859225e-12 W = [[1.00000077]] b = [0.99999724]\n",
      "step = 4000 error value = 8.876261084102462e-14 W = [[1.00000019]] b = [0.9999993]\n",
      "step = 4400 error value = 5.663579341481972e-15 W = [[1.00000005]] b = [0.99999982]\n",
      "step = 4800 error value = 3.613698496332153e-16 W = [[1.00000001]] b = [0.99999996]\n",
      "step = 5200 error value = 2.3057532325275832e-17 W = [[1.]] b = [0.99999999]\n",
      "step = 5600 error value = 1.4712079959288286e-18 W = [[1.]] b = [1.]\n",
      "step = 6000 error value = 9.387192176237337e-20 W = [[1.]] b = [1.]\n",
      "step = 6400 error value = 5.989615636227359e-21 W = [[1.]] b = [1.]\n",
      "step = 6800 error value = 3.8216789931135444e-22 W = [[1.]] b = [1.]\n",
      "step = 7200 error value = 2.4382261292611113e-23 W = [[1.]] b = [1.]\n",
      "step = 7600 error value = 1.5578039403321889e-24 W = [[1.]] b = [1.]\n",
      "step = 8000 error value = 9.970481020341444e-26 W = [[1.]] b = [1.]\n"
     ]
    }
   ],
   "source": [
    "import numpy as np\n",
    "\n",
    "# 학습 데이터 준비\n",
    "x_data = np.array([1,2,3,4,5]).reshape(5,1)\n",
    "t_data = np.array([2,3,4,5,6]).reshape(5,1)\n",
    "\n",
    "# 임의의 직선 y= Wx + b 정의 (임의의 값으로 가중치 W, 바이어스 b 초기화)\n",
    "W = np.random.rand(1,1)\n",
    "b = np.random.rand(1)\n",
    "print(\"W =\", W,\", W,shape =\", W.shape, \",b =\", b, \", b.shape =\", b.shape)\n",
    "\n",
    "# 손실함수 E(W, b) 정의\n",
    "def loss_func(x,t):\n",
    "    y = np.dot(x,W) + b  # 행렬 곱을 이용\n",
    "    \n",
    "    return (np.sum( (t-y)**2) ) / (len(x))\n",
    "\n",
    "#  수치미분 numerical_derivative 및 utility 함수 정의\n",
    "def numerical_derivative(f, x):\n",
    "    delta_x = 1e-4\n",
    "    grad = np.zeros_like(x) # 입력 파라미터 x와 동일한 크기를 가짐 (0으로 초기화하여 나중에 저장)\n",
    "    \n",
    "    # 순차적으로 데이터 읽기\n",
    "    it = np.nditer(x, flags=['multi_index'], op_flags=['readwrite'])\n",
    "    \n",
    "    while not it.finished:  # 변수의 개수만큼 반복\n",
    "        idx = it.multi_index\n",
    "        \n",
    "        tmp_val = x[idx]   # 원본값을 저장하는 임시변수가 반드시 필요!\n",
    "        x[idx] = float(tmp_val) + delta_x\n",
    "        fx1 = f(x)  # f(x+delta_x)\n",
    "        \n",
    "        x[idx] = tmp_val - delta_x\n",
    "        fx2 = f(x)  # f(x=delta_x)\n",
    "        grad[idx] = (fx1 - fx2) / (2*delta_x)\n",
    "        \n",
    "        x[idx] = tmp_val\n",
    "        it.iternext()\n",
    "        \n",
    "    return grad\n",
    "\n",
    "# 손실함수 값 계산 함수\n",
    "# 입력변수 x, t : numpy type\n",
    "def error_val(x,t):\n",
    "    y = np.dot(x,W) + b\n",
    "    \n",
    "    return (np.sum( (t-y)**2) ) / (len(x))\n",
    "\n",
    "# 학습을 마친 후 임의의 데이터에 대해 미래 값 예측 함수\n",
    "# 입력변수 x : numpy type\n",
    "def predict(x):\n",
    "    y = np.dot(x,W) + b\n",
    "    \n",
    "    return y\n",
    "\n",
    "# 학습율 초기화 및 손실함수가 최소가 될 때까지 W, b 업데이트 \n",
    "learning_rate = 1e-2  ## 발산하는 경우 1e-3, 1e-6 등ㅇ로 바꾸어서 진행\n",
    "f = lambda x : loss_func(x_data, t_data)\n",
    "\n",
    "print(\"Initial error value = \", error_val(x_data, t_data), \"Intial W = \", W, \"\\n\", \"b = \" ,b)\n",
    "\n",
    "for step in range(8001):\n",
    "    W -= learning_rate * numerical_derivative(f, W)\n",
    "    \n",
    "    b -= learning_rate * numerical_derivative(f, b)\n",
    "    \n",
    "    if (step % 400 == 0):\n",
    "        print(\"step =\", step, \"error value =\", error_val(x_data, t_data), \"W =\", W, \"b =\", b)"
   ]
  },
  {
   "cell_type": "code",
   "execution_count": 10,
   "id": "d71f065e",
   "metadata": {},
   "outputs": [
    {
     "data": {
      "text/plain": [
       "array([[44.]])"
      ]
     },
     "execution_count": 10,
     "metadata": {},
     "output_type": "execute_result"
    }
   ],
   "source": [
    "# 43의 값을 예측\n",
    "predict(43)  "
   ]
  },
  {
   "cell_type": "markdown",
   "id": "4437b53f",
   "metadata": {},
   "source": [
    "## multi-varible regression \n",
    "- y = x1W1 + x2W2 + x3W3 + b"
   ]
  },
  {
   "cell_type": "code",
   "execution_count": 44,
   "id": "6570a4b8",
   "metadata": {},
   "outputs": [
    {
     "name": "stdout",
     "output_type": "stream",
     "text": [
      "x_data.ndim =  2 , x_data.shape =  (25, 3)\n",
      "t_data.ndim =  2 , t_data.shape =  (25, 1)\n",
      "W = [[0.9614944 ]\n",
      " [0.84774051]\n",
      " [0.36491205]] , W.shape = (3, 1) b = [0.56783013] , b.shape = (1,)\n"
     ]
    }
   ],
   "source": [
    "# 학습데이터 준비\n",
    "import numpy as np\n",
    "\n",
    "loaded_data = np.loadtxt('./dataset/data-01-test-score.csv', delimiter=',', dtype=np.float32)\n",
    "#print(loaded_data)\n",
    "\n",
    "x_data = loaded_data[:, 0:-1]\n",
    "t_data = loaded_data[:, [-1]]\n",
    "\n",
    "# 데이터 차원 및 shape 확인\n",
    "print(\"x_data.ndim = \", x_data.ndim, \", x_data.shape = \", x_data.shape)\n",
    "print(\"t_data.ndim = \", t_data.ndim, \", t_data.shape = \", t_data.shape) \n",
    "\n",
    "# 임의의 직선 y= W1x1 + W2x2 + W3x3 + b 정의\n",
    "W = np.random.rand(3, 1)  # 3X1 행렬\n",
    "b = np.random.rand(1)\n",
    "print(\"W =\", W,\", W.shape =\", W.shape, \"b =\", b,\", b.shape =\", b.shape)"
   ]
  },
  {
   "cell_type": "markdown",
   "id": "a8328f66",
   "metadata": {},
   "source": [
    "### 손실함수 E(W, b) 정의"
   ]
  },
  {
   "cell_type": "code",
   "execution_count": 2,
   "id": "3a0b2369",
   "metadata": {},
   "outputs": [],
   "source": [
    "def loss_func(x, t):\n",
    "    y = np.dot(x, W) + b\n",
    "    \n",
    "    return ( np.sum( (t- y)**2) ) / ( len(x) )"
   ]
  },
  {
   "cell_type": "markdown",
   "id": "6787eb1f",
   "metadata": {},
   "source": [
    "### 수치미분 numerical_derivative 및 utility 함수 정의"
   ]
  },
  {
   "cell_type": "code",
   "execution_count": 46,
   "id": "39cb0980",
   "metadata": {},
   "outputs": [],
   "source": [
    "def numerical_derivative(f, x):\n",
    "    delta_x = 1e-4 # 0.0001\n",
    "    grad = np.zeros_like(x)\n",
    "    \n",
    "    it = np.nditer(x, flags=['multi_index'], op_flags=['readwrite'])\n",
    "    \n",
    "    while not it.finished:\n",
    "        idx = it.multi_index        \n",
    "        tmp_val = x[idx]\n",
    "        x[idx] = float(tmp_val) + delta_x\n",
    "        fx1 = f(x) # f(x+delta_x)\n",
    "        \n",
    "        x[idx] = tmp_val - delta_x \n",
    "        fx2 = f(x) # f(x-delta_x)\n",
    "        grad[idx] = (fx1 - fx2) / (2*delta_x)\n",
    "        \n",
    "        x[idx] = tmp_val \n",
    "        it.iternext()   \n",
    "        \n",
    "    return grad"
   ]
  },
  {
   "cell_type": "markdown",
   "id": "77d1030d",
   "metadata": {},
   "source": [
    "### 손실함수 값 계산 및 예측 함수"
   ]
  },
  {
   "cell_type": "code",
   "execution_count": 47,
   "id": "adaf0866",
   "metadata": {},
   "outputs": [],
   "source": [
    "# 입력변수 x, t : numpy type\n",
    "def error_val(x, t):\n",
    "    y = np.dot(x, W) + b\n",
    "    \n",
    "    return ( np.sum( (t - y)**2 ) ) / ( len(x) )\n",
    "\n",
    "# 학습을 마친 후 임의의 데이터에 대해 미래 값 예측 함수\n",
    "# 입력변수 x : numpy type\n",
    "def predict(x):\n",
    "    y = np.dot(x, W) + b\n",
    "    \n",
    "    return y"
   ]
  },
  {
   "cell_type": "code",
   "execution_count": 48,
   "id": "fe6a5e14",
   "metadata": {},
   "outputs": [
    {
     "name": "stdout",
     "output_type": "stream",
     "text": [
      "Initial error value =  163.9902124855351 Initial W =  [[0.9614944 ]\n",
      " [0.84774051]\n",
      " [0.36491205]] \n",
      " , b =  [0.56783013]\n",
      "step =  0 error value =  76.50450739034585 W =  [[0.94252371]\n",
      " [0.82863747]\n",
      " [0.34585405]] , b =  [0.56768883]\n",
      "step =  400 error value =  20.110549386809385 W =  [[0.85807239]\n",
      " [0.73634716]\n",
      " [0.43098293]] , b =  [0.5676072]\n",
      "step =  800 error value =  16.441596464366807 W =  [[0.80844529]\n",
      " [0.68546827]\n",
      " [0.52893263]] , b =  [0.56761911]\n",
      "step =  1200 error value =  13.781256348722625 W =  [[0.76384332]\n",
      " [0.64450169]\n",
      " [0.61231352]] , b =  [0.56752334]\n",
      "step =  1600 error value =  11.843855940552627 W =  [[0.72373885]\n",
      " [0.61167809]\n",
      " [0.68336717]] , b =  [0.56733577]\n",
      "step =  2000 error value =  10.426289415684833 W =  [[0.68766255]\n",
      " [0.58553113]\n",
      " [0.7439825 ]] , b =  [0.56706988]\n",
      "step =  2400 error value =  9.383837146188803 W =  [[0.65519646]\n",
      " [0.56484662]\n",
      " [0.79575206]] , b =  [0.56673707]\n",
      "step =  2800 error value =  8.613125878538252 W =  [[0.62596808]\n",
      " [0.54862024]\n",
      " [0.8400192 ]] , b =  [0.56634705]\n",
      "step =  3200 error value =  8.040110172129692 W =  [[0.59964506]\n",
      " [0.53602216]\n",
      " [0.8779177 ]] , b =  [0.56590803]\n",
      "step =  3600 error value =  7.611586478461706 W =  [[0.57593065]\n",
      " [0.52636762]\n",
      " [0.91040506]] , b =  [0.565427]\n",
      "step =  4000 error value =  7.289194212343761 W =  [[0.55455965]\n",
      " [0.51909232]\n",
      " [0.93829039]] , b =  [0.56490992]\n",
      "step =  4400 error value =  7.045169020101094 W =  [[0.53529486]\n",
      " [0.51373195]\n",
      " [0.96225786]] , b =  [0.56436184]\n",
      "step =  4800 error value =  6.859331645339776 W =  [[0.51792397]\n",
      " [0.50990515]\n",
      " [0.98288643]] , b =  [0.5637871]\n",
      "step =  5200 error value =  6.716948994501323 W =  [[0.50225683]\n",
      " [0.50729929]\n",
      " [1.00066636]] , b =  [0.56318937]\n",
      "step =  5600 error value =  6.607211608705186 W =  [[0.48812299]\n",
      " [0.50565865]\n",
      " [1.01601315]] , b =  [0.5625718]\n",
      "step =  6000 error value =  6.522147356403234 W =  [[0.47536958]\n",
      " [0.50477458]\n",
      " [1.02927924]] , b =  [0.5619371]\n",
      "step =  6400 error value =  6.455844311822843 W =  [[0.46385944]\n",
      " [0.5044773 ]\n",
      " [1.04076381]] , b =  [0.56128757]\n",
      "step =  6800 error value =  6.403893167574404 W =  [[0.45346938]\n",
      " [0.50462912]\n",
      " [1.0507211 ]] , b =  [0.5606252]\n",
      "step =  7200 error value =  6.362985839775663 W =  [[0.44408875]\n",
      " [0.5051188 ]\n",
      " [1.05936735]] , b =  [0.55995167]\n",
      "step =  7600 error value =  6.330625454028684 W =  [[0.43561808]\n",
      " [0.50585684]\n",
      " [1.06688667]] , b =  [0.55926847]\n",
      "step =  8000 error value =  6.3049159620262465 W =  [[0.42796795]\n",
      " [0.50677158]\n",
      " [1.07343596]] , b =  [0.55857684]\n",
      "step =  8400 error value =  6.284408854187623 W =  [[0.42105788]\n",
      " [0.50780603]\n",
      " [1.07914912]] , b =  [0.55787787]\n",
      "step =  8800 error value =  6.2679909431076135 W =  [[0.41481546]\n",
      " [0.50891515]\n",
      " [1.08414053]] , b =  [0.55717251]\n",
      "step =  9200 error value =  6.254801796309899 W =  [[0.4091755 ]\n",
      " [0.51006367]\n",
      " [1.08850799]] , b =  [0.55646156]\n",
      "step =  9600 error value =  6.244172657495648 W =  [[0.40407928]\n",
      " [0.51122428]\n",
      " [1.09233527]] , b =  [0.55574572]\n",
      "step =  10000 error value =  6.235581008821369 W =  [[0.39947388]\n",
      " [0.51237608]\n",
      " [1.09569419]] , b =  [0.55502562]\n"
     ]
    }
   ],
   "source": [
    "# 학습율 초기화 및 손실함수가 최소가 될 때까지 W, b 업데이트 \n",
    "learning_rate = 1e-5  # 1e-2, 1e-3 은 손실함수 값 발산\n",
    "\n",
    "f = lambda x : loss_func(x_data,t_data)\n",
    "\n",
    "print(\"Initial error value = \", error_val(x_data, t_data), \"Initial W = \", W, \"\\n\", \", b = \", b )\n",
    "\n",
    "for step in  range(10001):  \n",
    "    \n",
    "    W -= learning_rate * numerical_derivative(f, W)\n",
    "    \n",
    "    b -= learning_rate * numerical_derivative(f, b)\n",
    "    \n",
    "    if (step % 400 == 0):\n",
    "        print(\"step = \", step, \"error value = \", error_val(x_data, t_data), \"W = \", W, \", b = \",b )"
   ]
  },
  {
   "cell_type": "code",
   "execution_count": 49,
   "id": "4e077d11",
   "metadata": {},
   "outputs": [
    {
     "data": {
      "text/plain": [
       "array([179.4664992])"
      ]
     },
     "execution_count": 49,
     "metadata": {},
     "output_type": "execute_result"
    }
   ],
   "source": [
    "test_data = np.array([100, 98, 81])\n",
    "\n",
    "predict(test_data)"
   ]
  }
 ],
 "metadata": {
  "kernelspec": {
   "display_name": "Python 3 (ipykernel)",
   "language": "python",
   "name": "python3"
  },
  "language_info": {
   "codemirror_mode": {
    "name": "ipython",
    "version": 3
   },
   "file_extension": ".py",
   "mimetype": "text/x-python",
   "name": "python",
   "nbconvert_exporter": "python",
   "pygments_lexer": "ipython3",
   "version": "3.11.5"
  }
 },
 "nbformat": 4,
 "nbformat_minor": 5
}
