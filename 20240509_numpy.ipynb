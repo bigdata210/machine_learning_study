{
 "cells": [
  {
   "cell_type": "markdown",
   "id": "27417000",
   "metadata": {},
   "source": [
    "# Numpy"
   ]
  },
  {
   "cell_type": "markdown",
   "id": "2d2c4853",
   "metadata": {},
   "source": [
    "## Numpy 라이브러리 활용\n",
    "### 벡터, 행렬 등을 표현하고 연산할 때 사용하는 라이브러리\n",
    "- vector/ matrix 생성\n",
    "- 행렬 곱 (dot product) \n",
    "- broadcast\n",
    "- index / slice/ iterator\n",
    "- concatenate\n",
    "- useful function (loadtxt(), rand(), argmax(), ...)"
   ]
  },
  {
   "cell_type": "code",
   "execution_count": 2,
   "id": "0b7b905f",
   "metadata": {},
   "outputs": [
    {
     "name": "stdout",
     "output_type": "stream",
     "text": [
      "A == [1 2] , type == <class 'numpy.ndarray'>\n",
      "result == 2.718281828459045 type == <class 'numpy.float64'>\n"
     ]
    }
   ],
   "source": [
    "import numpy as np\n",
    "\n",
    "A = np.array([1,2])\n",
    "print(\"A ==\", A, \", type ==\", type(A))\n",
    "\n",
    "from numpy import exp\n",
    "result = exp(1)\n",
    "print(\"result ==\", result, \"type ==\", type(result))"
   ]
  },
  {
   "cell_type": "code",
   "execution_count": 5,
   "id": "1a00c23e",
   "metadata": {},
   "outputs": [
    {
     "name": "stdout",
     "output_type": "stream",
     "text": [
      "A.shape == (3,) ,B.shape == (3,)\n",
      "A.ndim == 1 ,B.ndim == 1\n"
     ]
    }
   ],
   "source": [
    "# 벡터(vector) 생성\n",
    "A = np.array([1,2,3])\n",
    "B = np.array([4,5,6])\n",
    "\n",
    "# vector A, B 형상 출력 => shape\n",
    "print(\"A.shape ==\", A.shape, \",B.shape ==\", B.shape)\n",
    "\n",
    "# vecotr A, B 차원 출력 => ndim\n",
    "print(\"A.ndim ==\", A.ndim, \",B.ndim ==\", B.ndim)"
   ]
  },
  {
   "cell_type": "code",
   "execution_count": 7,
   "id": "19abc8d8",
   "metadata": {},
   "outputs": [
    {
     "name": "stdout",
     "output_type": "stream",
     "text": [
      "A.shape == (2, 3) ,B.shape == (2, 3)\n",
      "A.ndim == 2 ,B.ndim == 2\n",
      "C.shape == (1, 3)\n"
     ]
    }
   ],
   "source": [
    "# 행렬(matrix) 생성\n",
    "A = np.array([[1,2,3], [4,5,6]])\n",
    "B = np.array([[-1,-2,-3], [-4,-5,-6]])\n",
    "\n",
    "# matrix A, B 형상 출력 => shape\n",
    "print(\"A.shape ==\", A.shape, \",B.shape ==\", B.shape)\n",
    "\n",
    "# matrix A, B 차원 출력 => ndim\n",
    "print(\"A.ndim ==\", A.ndim, \",B.ndim ==\", B.ndim)\n",
    "\n",
    "# 형 변환(reshape)\n",
    "C = np.array([1,2,3])\n",
    "C = C.reshape(1,3)\n",
    "\n",
    "print(\"C.shape ==\", C.shape)"
   ]
  },
  {
   "cell_type": "code",
   "execution_count": 9,
   "id": "f9d6178d",
   "metadata": {},
   "outputs": [
    {
     "name": "stdout",
     "output_type": "stream",
     "text": [
      "C.shpae == (2, 2)\n",
      "[[-22 -28]\n",
      " [-49 -64]]\n"
     ]
    }
   ],
   "source": [
    "# 행렬 곱(dot product)\n",
    "## 앞부분의 열과 뒷부분의 행이 같아야 함!\n",
    "A = np.array([[1,2,3], [4,5,6]])  # 2X3\n",
    "B = np.array([[-1,-2], [-3,-4] ,[-5,-6]]) # 3X2\n",
    "\n",
    "C = np.dot(A, B)\n",
    "print(\"C.shpae ==\" , C.shape) # 2X2\n",
    "print(C)"
   ]
  },
  {
   "cell_type": "code",
   "execution_count": 11,
   "id": "abf31215",
   "metadata": {},
   "outputs": [
    {
     "name": "stdout",
     "output_type": "stream",
     "text": [
      "[[6 7]\n",
      " [8 9]]\n",
      "[[5 7]\n",
      " [7 9]]\n"
     ]
    }
   ],
   "source": [
    "# numpy broadcast : 차원이 다른 두 행렬간도 사칙연산이 가능 (행렬곱에서는 안됨!!)\n",
    "## 차원이 작은 쪽이 큰 쪽의 행단위로 반복적으로 크기를 맞춘 후 계산\n",
    "A = np.array([[1,2], [3,4]])\n",
    "b = 5\n",
    "print(A+b)\n",
    "\n",
    "c = np.array([4,5])\n",
    "print(A+c)"
   ]
  },
  {
   "cell_type": "code",
   "execution_count": 20,
   "id": "57472c49",
   "metadata": {},
   "outputs": [
    {
     "name": "stdout",
     "output_type": "stream",
     "text": [
      "A.shape == (3, 2) ,B.shape == (2, 3)\n",
      "A의 행렬:\n",
      " [[1 2]\n",
      " [3 4]\n",
      " [5 6]]\n",
      "B의 행렬:\n",
      " [[1 3 5]\n",
      " [2 4 6]]\n",
      "\n",
      "C.shape == (5,) ,D.shape == (5,)\n",
      "C의 행렬:\n",
      " [1 2 3 4 5]\n",
      "D의 행렬:\n",
      " [1 2 3 4 5]\n",
      "\n",
      "E.shape == (1, 5) ,F.shape == (5, 1)\n",
      "E의 행렬:\n",
      " [[1 2 3 4 5]]\n",
      "F의 행렬:\n",
      " [[1]\n",
      " [2]\n",
      " [3]\n",
      " [4]\n",
      " [5]]\n"
     ]
    }
   ],
   "source": [
    "# 전치행렬(transpose) : 원본 행렬이 열은 행으로 행은 열로 바꾼 것\n",
    "A = np.array([[1,2], [3,4], [5,6]])\n",
    "B = A.T\n",
    "print(\"A.shape ==\", A.shape, \",B.shape ==\", B.shape)\n",
    "print(\"A의 행렬:\\n\", A)\n",
    "print(\"B의 행렬:\\n\", B)\n",
    "print()\n",
    "# 단 전치행렬은 vector는 안됨 \n",
    "## why? vector는 열과 행을 구분하지 않기 때문\n",
    "C = np.array([1,2,3,4,5])\n",
    "D = C.T\n",
    "print(\"C.shape ==\", C.shape, \",D.shape ==\", D.shape)\n",
    "print(\"C의 행렬:\\n\", C)\n",
    "print(\"D의 행렬:\\n\", D)\n",
    "\n",
    "# reshape를 통해 변경 후 전치행렬 가능\n",
    "E = C.reshape(1,5)\n",
    "F = E.T\n",
    "print()\n",
    "print(\"E.shape ==\", E.shape, \",F.shape ==\", F.shape)\n",
    "print(\"E의 행렬:\\n\", E)\n",
    "print(\"F의 행렬:\\n\", F)"
   ]
  },
  {
   "cell_type": "code",
   "execution_count": 28,
   "id": "30c95d8c",
   "metadata": {},
   "outputs": [
    {
     "name": "stdout",
     "output_type": "stream",
     "text": [
      "[[10 20]\n",
      " [30 40]\n",
      " [50 60]]\n",
      "A[0,0] == 10\n",
      "A[0:-1, 1:2] == []\n",
      "A[:,0] == [10 30 50]\n",
      "\n",
      "A: [[10 20 30 40]\n",
      " [50 60 70 80]] \n",
      "\n",
      "A.shape == (2, 4)\n",
      "current value => 10\n",
      "current value => 20\n",
      "current value => 30\n",
      "current value => 40\n",
      "current value => 50\n",
      "current value => 60\n",
      "current value => 70\n",
      "current value => 80\n"
     ]
    }
   ],
   "source": [
    "# indexing/ slicing 가능\n",
    "A = np.array([10,20,30,40,50,60]).reshape(3,2)\n",
    "\n",
    "print(A)\n",
    "print(\"A[0,0] ==\", A[0,0])\n",
    "print(\"A[0:-1, 1:2] ==\", A[0:-1, 1:1])\n",
    "print(\"A[:,0] ==\", A[:,0])\n",
    "print()\n",
    "\n",
    "# iterator: 순차적으로 데이터 값을 읽기 가능\n",
    "A = np.array([[10,20,30,40], [50,60,70,80]])\n",
    "print(\"A:\",A,\"\\n\")\n",
    "print(\"A.shape ==\", A.shape)\n",
    "it = np.nditer(A, flags=['multi_index'], op_flags=['readwrite'])\n",
    "\n",
    "while not it.finished:\n",
    "    idx = it.multi_index\n",
    "    print(\"current value =>\", A[idx])\n",
    "    it.iternext()"
   ]
  },
  {
   "cell_type": "code",
   "execution_count": 34,
   "id": "fb6e8e65",
   "metadata": {},
   "outputs": [
    {
     "name": "stdout",
     "output_type": "stream",
     "text": [
      "(2, 3)\n",
      "[[20 30 40]\n",
      " [50 60 70]] \n",
      "\n",
      "[[ 20  30  40]\n",
      " [ 50  60  70]\n",
      " [ 80  90 100]]\n",
      "[[  20   30   40 1000]\n",
      " [  50   60   70 2000]]\n"
     ]
    }
   ],
   "source": [
    "# concatenate : 기존 행렬에 행이나 열 추가 가능\n",
    "\n",
    "A = np.array([[20,30,40], [50,60,70]])\n",
    "print(A.shape)\n",
    "print(A,\"\\n\")\n",
    "\n",
    "# 하나의 vector는 reshape을 통해 행렬로 변경 후 concatenate 진행\n",
    "row_add = np.array([80,90,100]).reshape(1,3)\n",
    "\n",
    "column_add = np.array([1000, 2000]).reshape(2,1)\n",
    "\n",
    "B = np.concatenate((A, row_add), axis = 0)\n",
    "print(B)\n",
    "\n",
    "C = np.concatenate((A, column_add), axis=1)\n",
    "print(C)"
   ]
  },
  {
   "cell_type": "code",
   "execution_count": 44,
   "id": "84ce0042",
   "metadata": {},
   "outputs": [
    {
     "name": "stdout",
     "output_type": "stream",
     "text": [
      "random_number1 == [0.58506287 0.32169524 0.2364428 ] ,random_number1.shape == (3,)\n",
      "random_number2 == [[0.53344788 0.03772381 0.22119099]] ,random_number2.shape == (1, 3)\n",
      "np.sum(X) == 20\n",
      "np.exp(X) == [   7.3890561    54.59815003  403.42879349 2980.95798704]\n",
      "np.log(X) == [0.69314718 1.38629436 1.79175947 2.07944154]\n",
      "\n",
      "np.max(X) == 8\n",
      "np.min(X) == 2\n",
      "np.argmax(X) == 3\n",
      "np.argmax(X) == 0\n",
      "\n",
      "[[2 4 6]\n",
      " [1 2 3]\n",
      " [0 5 8]]\n",
      "np.max(X) == [2 5 8]\n",
      "np.max(X) == [6 3 8]\n",
      "np.argmax(X) == [0 2 2]\n",
      "np.argmax(X) == [2 2 2]\n"
     ]
    }
   ],
   "source": [
    "# loadtxt : 구분된 파일에서 데이터를 읽기 위해 사용\n",
    "## 머신러닝 코드에서 입력데이터와 정답데이터를 분리하는 프로그래밍 기법\n",
    "\n",
    "\n",
    "# rand : 0~1 사이의 random number 발생\n",
    "random_number1 = np.random.rand(3)\n",
    "random_number2 = np.random.rand(1,3)\n",
    "print(\"random_number1 ==\", random_number1, \",random_number1.shape ==\", random_number1.shape)\n",
    "print(\"random_number2 ==\", random_number2, \",random_number2.shape ==\", random_number2.shape)\n",
    "\n",
    "# sum, exp, log\n",
    "X = np.array([2,4,6,8])\n",
    "print(\"np.sum(X) ==\", np.sum(X))\n",
    "print(\"np.exp(X) ==\", np.exp(X))\n",
    "print(\"np.log(X) ==\", np.log(X))\n",
    "print()\n",
    "\n",
    "# max. min, argmax, argmin\n",
    "print(\"np.max(X) ==\", np.max(X))\n",
    "print(\"np.min(X) ==\", np.min(X))\n",
    "print(\"np.argmax(X) ==\", np.argmax(X)) # 최대값이 있는 인덱스를 리턴\n",
    "print(\"np.argmax(X) ==\", np.argmin(X)) # 최솟값이 있는 인덱스를 리턴\n",
    "print()\n",
    "\n",
    "X = np.array([[2,4,6], [1,2,3], [0,5,8]])\n",
    "print(X)\n",
    "print(\"np.max(X) ==\", np.max(X, axis= 0)) # axis = 0, 열 기준\n",
    "print(\"np.max(X) ==\", np.max(X, axis= 1)) # axis = 1, 행 기준\n",
    "print(\"np.argmax(X) ==\", np.argmax(X, axis= 0)) # 열 기준 가장 큰 값의 인덱스 값\n",
    "print(\"np.argmax(X) ==\", np.argmax(X, axis= 1))\n",
    "\n",
    "# ones : 1로 값을 채워주는 것\n",
    "# zeros : 0의 값으로 채워주는 것"
   ]
  }
 ],
 "metadata": {
  "kernelspec": {
   "display_name": "Python 3 (ipykernel)",
   "language": "python",
   "name": "python3"
  },
  "language_info": {
   "codemirror_mode": {
    "name": "ipython",
    "version": 3
   },
   "file_extension": ".py",
   "mimetype": "text/x-python",
   "name": "python",
   "nbconvert_exporter": "python",
   "pygments_lexer": "ipython3",
   "version": "3.11.5"
  }
 },
 "nbformat": 4,
 "nbformat_minor": 5
}
