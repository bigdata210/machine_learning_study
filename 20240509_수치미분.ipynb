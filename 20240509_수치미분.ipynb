{
 "cells": [
  {
   "cell_type": "markdown",
   "id": "159e7dcc",
   "metadata": {},
   "source": [
    "# 수치미분\n",
    "### 미분 \n",
    "- 접점의 기울기\n",
    "- 입력값이 변할 때 출력값이 얼마나 변하는지 알 수 있음\n",
    "- 출력값은 입력값의 변화에 얼마나 민감하게 반응하는지 알 수 있음\n",
    "- 예시) f(3) = 9 : 입력 x=3에서 출력은 9이다 \n",
    "- f'(3) = 6 : 입력 x=3을 미세하게 변화시킬 때 함수는 현재 입력값의 2배인 6배의 변화를 일으킴\n",
    "\n",
    "### 편미분\n",
    "- 입력변수가 하나 이상인 다변수 함수에서 미분하고자 하는 변수 하나를 제외한 나머지 변수들을 상수로 취급하고 해당 변수를 미분하는 것\n",
    "\n",
    "\n",
    "### 연쇄법칙 - Chain rule\n",
    "- 합성함수란 여러 함수로 구성된 함수\n",
    "- 합성함수를 미분하려면 합성함수를 구성하는 각 함수의 미분의 곱으로 나타내는 chain rule 이용"
   ]
  },
  {
   "cell_type": "code",
   "execution_count": 5,
   "id": "75c08be8",
   "metadata": {},
   "outputs": [
    {
     "name": "stdout",
     "output_type": "stream",
     "text": [
      "result == 6.000000000012662\n"
     ]
    }
   ],
   "source": [
    "# 수치미분 구현 f'(x) = 2x\n",
    "def numerical_derivative(f, x):\n",
    "    delta_x= 1e-4\n",
    "    return (f(x+delta_x) - f(x-delta_x))/ (2*delta_x)\n",
    "\n",
    "def my_func1(x):\n",
    "\n",
    "    return x**2\n",
    "\n",
    "result = numerical_derivative(my_func1, 3)\n",
    "print(\"result ==\", result)  # 결과값은 x=3 일 때, 함수 f가 얼마나 변하는지를 나타냄"
   ]
  },
  {
   "cell_type": "code",
   "execution_count": 7,
   "id": "f2a1ff8f",
   "metadata": {},
   "outputs": [
    {
     "name": "stdout",
     "output_type": "stream",
     "text": [
      "result == 66.50150507518049\n",
      "실제 미분: 66.50150489037586\n"
     ]
    }
   ],
   "source": [
    "# 수치미분 1차 버전\n",
    "import numpy as np\n",
    "\n",
    "def my_func2(x):\n",
    "    return 3*x*(np.exp(x))\n",
    "\n",
    "def numerical_Derivative(f, x):\n",
    "    delta_x = 1e-4\n",
    "    return (f(x+delta_x) - f(x-deleta_x)) / (2*delat_x)\n",
    "\n",
    "result = numerical_derivative(my_func2, 2)\n",
    "print(\"result ==\", result)\n",
    "\n",
    "print(\"실제 미분:\", 3*np.exp(2) + 3*2*np.exp(2))"
   ]
  },
  {
   "cell_type": "code",
   "execution_count": 15,
   "id": "f2259f3e",
   "metadata": {},
   "outputs": [],
   "source": [
    "# 실제로 활용되는 수치미분\n",
    "## 다 변수 함수의 경우 입력변수가 서로 독립적이기 때문에 수치미분 또한 변수의 개수만큼 개별적으로 계산함\n",
    "\n",
    "def numerical_derivative(f, x):\n",
    "    delta_x = 1e-4\n",
    "    grad = np.zeros_like(x) # 입력 파라미터 x와 동일한 크기를 가짐 (0으로 초기화하여 나중에 저장)\n",
    "    \n",
    "    # 순차적으로 데이터 읽기\n",
    "    it = np.nditer(x, flags=['multi_index'], op_flags=['readwrite'])\n",
    "    \n",
    "    while not it.finished:  # 변수의 개수만큼 반복\n",
    "        idx = it.multi_index\n",
    "        \n",
    "        tmp_val = x[idx]   # 원본값을 저장하는 임시변수가 반드시 필요!\n",
    "        x[idx] = float(tmp_val) + delta_x\n",
    "        fx1 = f(x)  # f(x+delta_x)\n",
    "        \n",
    "        x[idx] = tmp_val = delta_x\n",
    "        fx2 = f(x)  # f(x=delta_x)\n",
    "        grad[idx] = (fx1 - fx2) / (2*delta_x)\n",
    "        \n",
    "        x[idx] = tmp_val\n",
    "        it.iternext()\n",
    "        \n",
    "    return grad"
   ]
  },
  {
   "cell_type": "markdown",
   "id": "42f5ed5d",
   "metadata": {},
   "source": [
    "### debug를 넣어 값들의 출력을 확인 "
   ]
  },
  {
   "cell_type": "code",
   "execution_count": 28,
   "id": "1a518c16",
   "metadata": {},
   "outputs": [],
   "source": [
    "def numerical_derivative(f, x):\n",
    "    delta_x = 1e-4\n",
    "    grad = np.zeros_like(x) \n",
    "    print(\"debug 1. initial input variable =\", x)\n",
    "    print(\"debug 2. initial grad =\", grad)\n",
    "    print(\"=======================================================\")\n",
    "   \n",
    "    it = np.nditer(x, flags=['multi_index'], op_flags=['readwrite'])\n",
    "    \n",
    "    while not it.finished:  # 변수의 개수만큼 반복\n",
    "        idx = it.multi_index\n",
    "        \n",
    "        print(\"debug 3. idx =\", idx, \", x[idx] = \", x[idx])\n",
    "        \n",
    "        tmp_val = x[idx]   # 원본값을 저장하는 임시변수가 반드시 필요!\n",
    "        x[idx] = float(tmp_val) + delta_x\n",
    "        fx1 = f(x)  # f(x+delta_x)\n",
    "        \n",
    "        x[idx] = tmp_val - delta_x\n",
    "        fx2 = f(x)  # f(x=delta_x)\n",
    "        grad[idx] = (fx1 - fx2) / (2*delta_x)\n",
    "        \n",
    "        print(\"debug 4. grad[idx] =\", grad[idx])\n",
    "        print(\"debug 5. grad =\", grad)\n",
    "        print(\"=======================================================\")\n",
    "        \n",
    "        x[idx] = tmp_val\n",
    "        it.iternext()\n",
    "        \n",
    "    return grad"
   ]
  },
  {
   "cell_type": "markdown",
   "id": "9f65c450",
   "metadata": {},
   "source": [
    "### 1변수 함수: f(x) = x^2, f'(3.0)"
   ]
  },
  {
   "cell_type": "code",
   "execution_count": 29,
   "id": "8bf3affe",
   "metadata": {},
   "outputs": [
    {
     "name": "stdout",
     "output_type": "stream",
     "text": [
      "debug 1. initial input variable = [3.]\n",
      "debug 2. initial grad = [0.]\n",
      "=======================================================\n",
      "debug 3. idx = (0,) , x[idx] =  3.0\n",
      "debug 4. grad[idx] = 6.000000000012662\n",
      "debug 5. grad = [6.]\n",
      "=======================================================\n"
     ]
    },
    {
     "data": {
      "text/plain": [
       "array([6.])"
      ]
     },
     "execution_count": 29,
     "metadata": {},
     "output_type": "execute_result"
    }
   ],
   "source": [
    "def func1(input_obj):\n",
    "    x = input_obj[0]\n",
    "    \n",
    "    return x**2\n",
    "\n",
    "numerical_derivative(func1, np.array([3.0]) )"
   ]
  },
  {
   "cell_type": "markdown",
   "id": "4d2801cd",
   "metadata": {},
   "source": [
    "### 2변수 함수 : f(x,y) = 2x + 3xy + y^3, f'(1.0, 2.0)"
   ]
  },
  {
   "cell_type": "code",
   "execution_count": 30,
   "id": "d795c9f4",
   "metadata": {},
   "outputs": [
    {
     "name": "stdout",
     "output_type": "stream",
     "text": [
      "debug 1. initial input variable = [1. 2.]\n",
      "debug 2. initial grad = [0. 0.]\n",
      "=======================================================\n",
      "debug 3. idx = (0,) , x[idx] =  1.0\n",
      "debug 4. grad[idx] = 7.999999999990237\n",
      "debug 5. grad = [8. 0.]\n",
      "=======================================================\n",
      "debug 3. idx = (1,) , x[idx] =  2.0\n",
      "debug 4. grad[idx] = 15.000000010019221\n",
      "debug 5. grad = [ 8.         15.00000001]\n",
      "=======================================================\n"
     ]
    },
    {
     "data": {
      "text/plain": [
       "array([ 8.        , 15.00000001])"
      ]
     },
     "execution_count": 30,
     "metadata": {},
     "output_type": "execute_result"
    }
   ],
   "source": [
    "def func2(input_obj):\n",
    "    x = input_obj[0]\n",
    "    y = input_obj[1]\n",
    "    \n",
    "    return (2*x + 3*x*y + np.power(y,3))\n",
    "\n",
    "input = np.array([1.0, 2.0])\n",
    "numerical_derivative(func2, input)"
   ]
  },
  {
   "cell_type": "markdown",
   "id": "f9c39f14",
   "metadata": {},
   "source": [
    "### 4변수 함수 : f(w,x,y,z) = wx +xyz + 3w + zy^2, f'(1.0, 2.0, 3.0, 4.0)"
   ]
  },
  {
   "cell_type": "code",
   "execution_count": 31,
   "id": "677838ab",
   "metadata": {},
   "outputs": [
    {
     "name": "stdout",
     "output_type": "stream",
     "text": [
      "debug 1. initial input variable = [[1. 2.]\n",
      " [3. 4.]]\n",
      "debug 2. initial grad = [[0. 0.]\n",
      " [0. 0.]]\n",
      "=======================================================\n",
      "debug 3. idx = (0, 0) , x[idx] =  1.0\n",
      "debug 4. grad[idx] = 5.000000000023874\n",
      "debug 5. grad = [[5. 0.]\n",
      " [0. 0.]]\n",
      "=======================================================\n",
      "debug 3. idx = (0, 1) , x[idx] =  2.0\n",
      "debug 4. grad[idx] = 13.00000000000523\n",
      "debug 5. grad = [[ 5. 13.]\n",
      " [ 0.  0.]]\n",
      "=======================================================\n",
      "debug 3. idx = (1, 0) , x[idx] =  3.0\n",
      "debug 4. grad[idx] = 32.00000000006753\n",
      "debug 5. grad = [[ 5. 13.]\n",
      " [32.  0.]]\n",
      "=======================================================\n",
      "debug 3. idx = (1, 1) , x[idx] =  4.0\n",
      "debug 4. grad[idx] = 15.000000000000568\n",
      "debug 5. grad = [[ 5. 13.]\n",
      " [32. 15.]]\n",
      "=======================================================\n"
     ]
    },
    {
     "data": {
      "text/plain": [
       "array([[ 5., 13.],\n",
       "       [32., 15.]])"
      ]
     },
     "execution_count": 31,
     "metadata": {},
     "output_type": "execute_result"
    }
   ],
   "source": [
    "def func3(input_obj):\n",
    "    w = input_obj[0, 0]\n",
    "    x = input_obj[0, 1]\n",
    "    y = input_obj[1, 0]\n",
    "    z = input_obj[1, 1]\n",
    "    \n",
    "    return (w*x + x*y*z + 3*w + z*np.power(y,2) )\n",
    "\n",
    "input = np.array([ [1.0, 2.0], [3.0, 4.0] ])\n",
    "numerical_derivative(func3, input)\n",
    "    "
   ]
  },
  {
   "cell_type": "code",
   "execution_count": null,
   "id": "cbde36e5",
   "metadata": {},
   "outputs": [],
   "source": []
  }
 ],
 "metadata": {
  "kernelspec": {
   "display_name": "Python 3 (ipykernel)",
   "language": "python",
   "name": "python3"
  },
  "language_info": {
   "codemirror_mode": {
    "name": "ipython",
    "version": 3
   },
   "file_extension": ".py",
   "mimetype": "text/x-python",
   "name": "python",
   "nbconvert_exporter": "python",
   "pygments_lexer": "ipython3",
   "version": "3.11.5"
  }
 },
 "nbformat": 4,
 "nbformat_minor": 5
}
